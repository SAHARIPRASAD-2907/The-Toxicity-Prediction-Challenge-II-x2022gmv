{
 "cells": [
  {
   "cell_type": "code",
   "execution_count": 1,
   "id": "e5550f92",
   "metadata": {},
   "outputs": [],
   "source": [
    "import pandas as pd\n",
    "from sklearn.metrics import f1_score\n",
    "from sklearn.model_selection import cross_validate\n",
    "from sklearn.model_selection import StratifiedKFold\n",
    "from sklearn.ensemble import RandomForestClassifier"
   ]
  },
  {
   "cell_type": "code",
   "execution_count": 2,
   "id": "6125ff2b",
   "metadata": {},
   "outputs": [],
   "source": [
    "train_data = pd.read_csv(\"./smile_description_train.csv\")\n",
    "test_data = pd.read_csv(\"./smile_description_test.csv\")"
   ]
  },
  {
   "cell_type": "code",
   "execution_count": 3,
   "id": "ab55086c",
   "metadata": {},
   "outputs": [],
   "source": [
    "def get_f1_socre(y_true,y_pred):\n",
    "    return f1_score(y_true, y_pred)"
   ]
  },
  {
   "cell_type": "code",
   "execution_count": 4,
   "id": "b74e809a",
   "metadata": {},
   "outputs": [],
   "source": [
    "# Replacing Null values of train and test data with 0 \n",
    "train_data = train_data.fillna(0)\n",
    "test_data = test_data.fillna(0)"
   ]
  },
  {
   "cell_type": "code",
   "execution_count": 5,
   "id": "c9e35f93",
   "metadata": {},
   "outputs": [],
   "source": [
    "# Split into X and y\n",
    "X = train_data.drop(\"label\",axis=1)\n",
    "y = train_data[\"label\"]"
   ]
  },
  {
   "cell_type": "code",
   "execution_count": 8,
   "id": "6baf87e4",
   "metadata": {},
   "outputs": [],
   "source": [
    "# \n",
    "skf = StratifiedKFold(n_splits=5)\n",
    "cv =  skf.get_n_splits(X, y)"
   ]
  },
  {
   "cell_type": "code",
   "execution_count": 9,
   "id": "1a0839c8",
   "metadata": {},
   "outputs": [],
   "source": [
    "from sklearn.metrics import make_scorer, accuracy_score, precision_score, recall_score, f1_score"
   ]
  },
  {
   "cell_type": "code",
   "execution_count": 14,
   "id": "b04039da",
   "metadata": {},
   "outputs": [],
   "source": [
    "def f1_score_random_forest(X,y,estimators):\n",
    "    skf = StratifiedKFold(n_splits=5,random_state=42,shuffle=True)\n",
    "    cv =  skf.get_n_splits(X, y)\n",
    "    scoring = {'accuracy' : make_scorer(accuracy_score), \n",
    "           'precision' : make_scorer(precision_score),\n",
    "           'recall' : make_scorer(recall_score), \n",
    "           'f1_score' : make_scorer(f1_score)}\n",
    "    cv_results = cross_validate(RandomForestClassifier(n_estimators=estimators,random_state=42,verbose=1,n_jobs=5), X, y, cv=cv,scoring=scoring)\n",
    "    print(\"F1 score with \",estimators,\" estimators\",sum(cv_results[\"test_f1_score\"])/5)\n",
    "    print(\"Accuracy score with \",estimators,\" estimators\",sum(cv_results[\"test_accuracy\"])/5)"
   ]
  },
  {
   "cell_type": "code",
   "execution_count": 15,
   "id": "ae513f37",
   "metadata": {},
   "outputs": [
    {
     "name": "stderr",
     "output_type": "stream",
     "text": [
      "[Parallel(n_jobs=5)]: Using backend LokyBackend with 5 concurrent workers.\n",
      "[Parallel(n_jobs=5)]: Done  40 tasks      | elapsed:    4.2s\n",
      "[Parallel(n_jobs=5)]: Done 190 tasks      | elapsed:   14.2s\n",
      "[Parallel(n_jobs=5)]: Done 440 tasks      | elapsed:   30.7s\n",
      "[Parallel(n_jobs=5)]: Done 500 out of 500 | elapsed:   34.7s finished\n",
      "[Parallel(n_jobs=5)]: Using backend ThreadingBackend with 5 concurrent workers.\n",
      "[Parallel(n_jobs=5)]: Done  40 tasks      | elapsed:    0.0s\n",
      "[Parallel(n_jobs=5)]: Done 190 tasks      | elapsed:    0.2s\n",
      "[Parallel(n_jobs=5)]: Done 440 tasks      | elapsed:    0.5s\n",
      "[Parallel(n_jobs=5)]: Done 500 out of 500 | elapsed:    0.6s finished\n",
      "[Parallel(n_jobs=5)]: Using backend LokyBackend with 5 concurrent workers.\n",
      "[Parallel(n_jobs=5)]: Done  40 tasks      | elapsed:    2.6s\n",
      "[Parallel(n_jobs=5)]: Done 190 tasks      | elapsed:   12.3s\n",
      "[Parallel(n_jobs=5)]: Done 440 tasks      | elapsed:   30.0s\n",
      "[Parallel(n_jobs=5)]: Done 500 out of 500 | elapsed:   34.2s finished\n",
      "[Parallel(n_jobs=5)]: Using backend ThreadingBackend with 5 concurrent workers.\n",
      "[Parallel(n_jobs=5)]: Done  40 tasks      | elapsed:    0.0s\n",
      "[Parallel(n_jobs=5)]: Done 190 tasks      | elapsed:    0.2s\n",
      "[Parallel(n_jobs=5)]: Done 440 tasks      | elapsed:    0.4s\n",
      "[Parallel(n_jobs=5)]: Done 500 out of 500 | elapsed:    0.4s finished\n",
      "[Parallel(n_jobs=5)]: Using backend LokyBackend with 5 concurrent workers.\n",
      "[Parallel(n_jobs=5)]: Done  40 tasks      | elapsed:    2.5s\n",
      "[Parallel(n_jobs=5)]: Done 190 tasks      | elapsed:   12.6s\n",
      "[Parallel(n_jobs=5)]: Done 440 tasks      | elapsed:   29.2s\n",
      "[Parallel(n_jobs=5)]: Done 500 out of 500 | elapsed:   33.0s finished\n",
      "[Parallel(n_jobs=5)]: Using backend ThreadingBackend with 5 concurrent workers.\n",
      "[Parallel(n_jobs=5)]: Done  40 tasks      | elapsed:    0.0s\n",
      "[Parallel(n_jobs=5)]: Done 190 tasks      | elapsed:    0.2s\n",
      "[Parallel(n_jobs=5)]: Done 440 tasks      | elapsed:    0.4s\n",
      "[Parallel(n_jobs=5)]: Done 500 out of 500 | elapsed:    0.4s finished\n",
      "[Parallel(n_jobs=5)]: Using backend LokyBackend with 5 concurrent workers.\n",
      "[Parallel(n_jobs=5)]: Done  40 tasks      | elapsed:    2.7s\n",
      "[Parallel(n_jobs=5)]: Done 190 tasks      | elapsed:   12.5s\n",
      "[Parallel(n_jobs=5)]: Done 440 tasks      | elapsed:   30.1s\n",
      "[Parallel(n_jobs=5)]: Done 500 out of 500 | elapsed:   33.9s finished\n",
      "[Parallel(n_jobs=5)]: Using backend ThreadingBackend with 5 concurrent workers.\n",
      "[Parallel(n_jobs=5)]: Done  40 tasks      | elapsed:    0.0s\n",
      "[Parallel(n_jobs=5)]: Done 190 tasks      | elapsed:    0.2s\n",
      "[Parallel(n_jobs=5)]: Done 440 tasks      | elapsed:    0.4s\n",
      "[Parallel(n_jobs=5)]: Done 500 out of 500 | elapsed:    0.4s finished\n",
      "[Parallel(n_jobs=5)]: Using backend LokyBackend with 5 concurrent workers.\n",
      "[Parallel(n_jobs=5)]: Done  40 tasks      | elapsed:    2.7s\n",
      "[Parallel(n_jobs=5)]: Done 190 tasks      | elapsed:   12.6s\n",
      "[Parallel(n_jobs=5)]: Done 440 tasks      | elapsed:   29.0s\n",
      "[Parallel(n_jobs=5)]: Done 500 out of 500 | elapsed:   32.9s finished\n",
      "[Parallel(n_jobs=5)]: Using backend ThreadingBackend with 5 concurrent workers.\n",
      "[Parallel(n_jobs=5)]: Done  40 tasks      | elapsed:    0.0s\n",
      "[Parallel(n_jobs=5)]: Done 190 tasks      | elapsed:    0.2s\n"
     ]
    },
    {
     "name": "stdout",
     "output_type": "stream",
     "text": [
      "F1 score with  500  estimators 0.393916018842289\n",
      "Accuracy score with  500  estimators 0.8347372785034699\n"
     ]
    },
    {
     "name": "stderr",
     "output_type": "stream",
     "text": [
      "[Parallel(n_jobs=5)]: Done 440 tasks      | elapsed:    0.4s\n",
      "[Parallel(n_jobs=5)]: Done 500 out of 500 | elapsed:    0.5s finished\n"
     ]
    }
   ],
   "source": [
    "# Trying with 500 estimators\n",
    "f1_score_random_forest(X,y,500)"
   ]
  },
  {
   "cell_type": "code",
   "execution_count": 59,
   "id": "b6dfd983",
   "metadata": {},
   "outputs": [
    {
     "data": {
      "text/html": [
       "<style>#sk-container-id-1 {color: black;background-color: white;}#sk-container-id-1 pre{padding: 0;}#sk-container-id-1 div.sk-toggleable {background-color: white;}#sk-container-id-1 label.sk-toggleable__label {cursor: pointer;display: block;width: 100%;margin-bottom: 0;padding: 0.3em;box-sizing: border-box;text-align: center;}#sk-container-id-1 label.sk-toggleable__label-arrow:before {content: \"▸\";float: left;margin-right: 0.25em;color: #696969;}#sk-container-id-1 label.sk-toggleable__label-arrow:hover:before {color: black;}#sk-container-id-1 div.sk-estimator:hover label.sk-toggleable__label-arrow:before {color: black;}#sk-container-id-1 div.sk-toggleable__content {max-height: 0;max-width: 0;overflow: hidden;text-align: left;background-color: #f0f8ff;}#sk-container-id-1 div.sk-toggleable__content pre {margin: 0.2em;color: black;border-radius: 0.25em;background-color: #f0f8ff;}#sk-container-id-1 input.sk-toggleable__control:checked~div.sk-toggleable__content {max-height: 200px;max-width: 100%;overflow: auto;}#sk-container-id-1 input.sk-toggleable__control:checked~label.sk-toggleable__label-arrow:before {content: \"▾\";}#sk-container-id-1 div.sk-estimator input.sk-toggleable__control:checked~label.sk-toggleable__label {background-color: #d4ebff;}#sk-container-id-1 div.sk-label input.sk-toggleable__control:checked~label.sk-toggleable__label {background-color: #d4ebff;}#sk-container-id-1 input.sk-hidden--visually {border: 0;clip: rect(1px 1px 1px 1px);clip: rect(1px, 1px, 1px, 1px);height: 1px;margin: -1px;overflow: hidden;padding: 0;position: absolute;width: 1px;}#sk-container-id-1 div.sk-estimator {font-family: monospace;background-color: #f0f8ff;border: 1px dotted black;border-radius: 0.25em;box-sizing: border-box;margin-bottom: 0.5em;}#sk-container-id-1 div.sk-estimator:hover {background-color: #d4ebff;}#sk-container-id-1 div.sk-parallel-item::after {content: \"\";width: 100%;border-bottom: 1px solid gray;flex-grow: 1;}#sk-container-id-1 div.sk-label:hover label.sk-toggleable__label {background-color: #d4ebff;}#sk-container-id-1 div.sk-serial::before {content: \"\";position: absolute;border-left: 1px solid gray;box-sizing: border-box;top: 0;bottom: 0;left: 50%;z-index: 0;}#sk-container-id-1 div.sk-serial {display: flex;flex-direction: column;align-items: center;background-color: white;padding-right: 0.2em;padding-left: 0.2em;position: relative;}#sk-container-id-1 div.sk-item {position: relative;z-index: 1;}#sk-container-id-1 div.sk-parallel {display: flex;align-items: stretch;justify-content: center;background-color: white;position: relative;}#sk-container-id-1 div.sk-item::before, #sk-container-id-1 div.sk-parallel-item::before {content: \"\";position: absolute;border-left: 1px solid gray;box-sizing: border-box;top: 0;bottom: 0;left: 50%;z-index: -1;}#sk-container-id-1 div.sk-parallel-item {display: flex;flex-direction: column;z-index: 1;position: relative;background-color: white;}#sk-container-id-1 div.sk-parallel-item:first-child::after {align-self: flex-end;width: 50%;}#sk-container-id-1 div.sk-parallel-item:last-child::after {align-self: flex-start;width: 50%;}#sk-container-id-1 div.sk-parallel-item:only-child::after {width: 0;}#sk-container-id-1 div.sk-dashed-wrapped {border: 1px dashed gray;margin: 0 0.4em 0.5em 0.4em;box-sizing: border-box;padding-bottom: 0.4em;background-color: white;}#sk-container-id-1 div.sk-label label {font-family: monospace;font-weight: bold;display: inline-block;line-height: 1.2em;}#sk-container-id-1 div.sk-label-container {text-align: center;}#sk-container-id-1 div.sk-container {/* jupyter's `normalize.less` sets `[hidden] { display: none; }` but bootstrap.min.css set `[hidden] { display: none !important; }` so we also need the `!important` here to be able to override the default hidden behavior on the sphinx rendered scikit-learn.org. See: https://github.com/scikit-learn/scikit-learn/issues/21755 */display: inline-block !important;position: relative;}#sk-container-id-1 div.sk-text-repr-fallback {display: none;}</style><div id=\"sk-container-id-1\" class=\"sk-top-container\"><div class=\"sk-text-repr-fallback\"><pre>RandomForestClassifier(n_estimators=500, random_state=42)</pre><b>In a Jupyter environment, please rerun this cell to show the HTML representation or trust the notebook. <br />On GitHub, the HTML representation is unable to render, please try loading this page with nbviewer.org.</b></div><div class=\"sk-container\" hidden><div class=\"sk-item\"><div class=\"sk-estimator sk-toggleable\"><input class=\"sk-toggleable__control sk-hidden--visually\" id=\"sk-estimator-id-1\" type=\"checkbox\" checked><label for=\"sk-estimator-id-1\" class=\"sk-toggleable__label sk-toggleable__label-arrow\">RandomForestClassifier</label><div class=\"sk-toggleable__content\"><pre>RandomForestClassifier(n_estimators=500, random_state=42)</pre></div></div></div></div></div>"
      ],
      "text/plain": [
       "RandomForestClassifier(n_estimators=500, random_state=42)"
      ]
     },
     "execution_count": 59,
     "metadata": {},
     "output_type": "execute_result"
    }
   ],
   "source": [
    "# Trying with random forest with 500 estimators\n",
    "model = RandomForestClassifier(n_estimators=500,random_state=42)\n",
    "model.fit(X,y)"
   ]
  },
  {
   "cell_type": "code",
   "execution_count": 66,
   "id": "37df0cb5",
   "metadata": {},
   "outputs": [],
   "source": [
    "def create_submission(predict,filename):\n",
    "    sub_file = pd.read_csv(\"./data/sample_submission.csv\")\n",
    "    sub_file[\"Predicted\"] = predict\n",
    "    sub_file.to_csv(filename,index=False)\n",
    "    print(filename,\" Created\")"
   ]
  },
  {
   "cell_type": "code",
   "execution_count": 60,
   "id": "ef2cce54",
   "metadata": {},
   "outputs": [],
   "source": [
    "predict = model.predict(test_data)"
   ]
  },
  {
   "cell_type": "code",
   "execution_count": 61,
   "id": "0cee60a6",
   "metadata": {},
   "outputs": [],
   "source": [
    "def get_count_of_ones_and_twos(predict):\n",
    "    print(\"Number of predicted ones\",np.count_nonzero(predict==1))\n",
    "    print(\"Number of predicted twos\",np.count_nonzero(predict==2))"
   ]
  },
  {
   "cell_type": "code",
   "execution_count": 63,
   "id": "686bbbfe",
   "metadata": {},
   "outputs": [
    {
     "name": "stdout",
     "output_type": "stream",
     "text": [
      "Number of predicted ones 1465\n",
      "Number of predicted twos 9529\n"
     ]
    }
   ],
   "source": [
    "import numpy as np\n",
    "get_count_of_ones_and_twos(predict)"
   ]
  },
  {
   "cell_type": "code",
   "execution_count": 67,
   "id": "b76f59ae",
   "metadata": {},
   "outputs": [
    {
     "name": "stdout",
     "output_type": "stream",
     "text": [
      "submission_1_feb_18.csv  Created\n"
     ]
    }
   ],
   "source": [
    "create_submission(predict,\"submission_1_feb_18.csv\") # 66.425\n",
    "# F1 score with  500  estimators 0.393916018842289\n",
    "# Accuracy score with  500  estimators 0.8347372785034699"
   ]
  },
  {
   "cell_type": "code",
   "execution_count": null,
   "id": "2b586a3d",
   "metadata": {},
   "outputs": [],
   "source": [
    "# Trying Extra Tree classifier\n"
   ]
  }
 ],
 "metadata": {
  "kernelspec": {
   "display_name": "Python 3 (ipykernel)",
   "language": "python",
   "name": "python3"
  },
  "language_info": {
   "codemirror_mode": {
    "name": "ipython",
    "version": 3
   },
   "file_extension": ".py",
   "mimetype": "text/x-python",
   "name": "python",
   "nbconvert_exporter": "python",
   "pygments_lexer": "ipython3",
   "version": "3.9.13"
  }
 },
 "nbformat": 4,
 "nbformat_minor": 5
}
