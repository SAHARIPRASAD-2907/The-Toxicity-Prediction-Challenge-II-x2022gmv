{
 "cells": [
  {
   "cell_type": "markdown",
   "id": "28d3050d",
   "metadata": {},
   "source": [
    "# Using principal component analysis"
   ]
  },
  {
   "cell_type": "code",
   "execution_count": 1,
   "id": "bee7bbaf",
   "metadata": {},
   "outputs": [],
   "source": [
    "import pandas as pd  \n",
    "from sklearn.preprocessing import StandardScaler  \n",
    "from sklearn.decomposition import PCA  \n",
    "import numpy as np"
   ]
  },
  {
   "cell_type": "code",
   "execution_count": 2,
   "id": "1b3d4a31",
   "metadata": {},
   "outputs": [],
   "source": [
    "train_data = pd.read_csv(\"./smile_description_train.csv\")\n",
    "test_data = pd.read_csv(\"./smile_description_test.csv\")"
   ]
  },
  {
   "cell_type": "code",
   "execution_count": null,
   "id": "d1c303ae",
   "metadata": {},
   "outputs": [],
   "source": []
  }
 ],
 "metadata": {
  "kernelspec": {
   "display_name": "Python 3 (ipykernel)",
   "language": "python",
   "name": "python3"
  },
  "language_info": {
   "codemirror_mode": {
    "name": "ipython",
    "version": 3
   },
   "file_extension": ".py",
   "mimetype": "text/x-python",
   "name": "python",
   "nbconvert_exporter": "python",
   "pygments_lexer": "ipython3",
   "version": "3.9.13"
  }
 },
 "nbformat": 4,
 "nbformat_minor": 5
}
