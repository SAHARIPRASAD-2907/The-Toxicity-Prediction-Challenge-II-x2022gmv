{
 "cells": [
  {
   "cell_type": "markdown",
   "id": "3c6220b7",
   "metadata": {},
   "source": [
    "# Working with smile description data \n",
    "\n",
    "Merging labels and Smile descriptions for detail analysis"
   ]
  },
  {
   "cell_type": "code",
   "execution_count": 13,
   "id": "2f10002e",
   "metadata": {},
   "outputs": [],
   "source": [
    "import pandas as pd\n",
    "import numpy as np"
   ]
  },
  {
   "cell_type": "code",
   "execution_count": 14,
   "id": "839b8ee4",
   "metadata": {},
   "outputs": [],
   "source": [
    "train_data = pd.read_csv(\"./extracted_compounds.csv\")"
   ]
  },
  {
   "cell_type": "code",
   "execution_count": 15,
   "id": "0d4ccbb6",
   "metadata": {},
   "outputs": [],
   "source": [
    "smile_description = pd.read_csv(\"./smile_description.csv\")"
   ]
  },
  {
   "cell_type": "code",
   "execution_count": 16,
   "id": "63d28332",
   "metadata": {},
   "outputs": [
    {
     "data": {
      "text/html": [
       "<div>\n",
       "<style scoped>\n",
       "    .dataframe tbody tr th:only-of-type {\n",
       "        vertical-align: middle;\n",
       "    }\n",
       "\n",
       "    .dataframe tbody tr th {\n",
       "        vertical-align: top;\n",
       "    }\n",
       "\n",
       "    .dataframe thead th {\n",
       "        text-align: right;\n",
       "    }\n",
       "</style>\n",
       "<table border=\"1\" class=\"dataframe\">\n",
       "  <thead>\n",
       "    <tr style=\"text-align: right;\">\n",
       "      <th></th>\n",
       "      <th>Expected</th>\n",
       "      <th>Chemical_Compound</th>\n",
       "      <th>Assay_Id</th>\n",
       "    </tr>\n",
       "  </thead>\n",
       "  <tbody>\n",
       "    <tr>\n",
       "      <th>0</th>\n",
       "      <td>2</td>\n",
       "      <td>C1=CC(=CC=C1C(C2=CC=C(C=C2)O)C(Cl)(Cl)Cl)O</td>\n",
       "      <td>1644</td>\n",
       "    </tr>\n",
       "    <tr>\n",
       "      <th>1</th>\n",
       "      <td>2</td>\n",
       "      <td>CCCCCCCCC(=O)C</td>\n",
       "      <td>2451</td>\n",
       "    </tr>\n",
       "    <tr>\n",
       "      <th>2</th>\n",
       "      <td>2</td>\n",
       "      <td>CCCCCCCCCC[N+](C)(C)CCCCCCCCCC.[Cl-]</td>\n",
       "      <td>1384</td>\n",
       "    </tr>\n",
       "    <tr>\n",
       "      <th>3</th>\n",
       "      <td>2</td>\n",
       "      <td>C1CN(C(=N1)N[N+](=O)[O-])CC2=CN=C(C=C2)Cl</td>\n",
       "      <td>16</td>\n",
       "    </tr>\n",
       "    <tr>\n",
       "      <th>4</th>\n",
       "      <td>2</td>\n",
       "      <td>[Na+].[I-]</td>\n",
       "      <td>1856</td>\n",
       "    </tr>\n",
       "    <tr>\n",
       "      <th>...</th>\n",
       "      <td>...</td>\n",
       "      <td>...</td>\n",
       "      <td>...</td>\n",
       "    </tr>\n",
       "    <tr>\n",
       "      <th>75378</th>\n",
       "      <td>2</td>\n",
       "      <td>COC(=O)NS(=O)(=O)C1=CC=C(C=C1)N</td>\n",
       "      <td>33</td>\n",
       "    </tr>\n",
       "    <tr>\n",
       "      <th>75379</th>\n",
       "      <td>1</td>\n",
       "      <td>CCOP(=S)(OCC)OC1=NN(C(=N1)Cl)C(C)C</td>\n",
       "      <td>1632</td>\n",
       "    </tr>\n",
       "    <tr>\n",
       "      <th>75380</th>\n",
       "      <td>1</td>\n",
       "      <td>C1=CC=C2C(=C1)NC(=S)S2</td>\n",
       "      <td>1373</td>\n",
       "    </tr>\n",
       "    <tr>\n",
       "      <th>75381</th>\n",
       "      <td>2</td>\n",
       "      <td>CCCCC(CC)C=O</td>\n",
       "      <td>2</td>\n",
       "    </tr>\n",
       "    <tr>\n",
       "      <th>75382</th>\n",
       "      <td>1</td>\n",
       "      <td>CC(C)(C)C1=CC(=CC(=C1O)C(C)(C)C)CCC(=O)NCCCCCC...</td>\n",
       "      <td>2</td>\n",
       "    </tr>\n",
       "  </tbody>\n",
       "</table>\n",
       "<p>75383 rows × 3 columns</p>\n",
       "</div>"
      ],
      "text/plain": [
       "       Expected                                  Chemical_Compound  Assay_Id\n",
       "0             2         C1=CC(=CC=C1C(C2=CC=C(C=C2)O)C(Cl)(Cl)Cl)O      1644\n",
       "1             2                                     CCCCCCCCC(=O)C      2451\n",
       "2             2               CCCCCCCCCC[N+](C)(C)CCCCCCCCCC.[Cl-]      1384\n",
       "3             2          C1CN(C(=N1)N[N+](=O)[O-])CC2=CN=C(C=C2)Cl        16\n",
       "4             2                                         [Na+].[I-]      1856\n",
       "...         ...                                                ...       ...\n",
       "75378         2                    COC(=O)NS(=O)(=O)C1=CC=C(C=C1)N        33\n",
       "75379         1                 CCOP(=S)(OCC)OC1=NN(C(=N1)Cl)C(C)C      1632\n",
       "75380         1                             C1=CC=C2C(=C1)NC(=S)S2      1373\n",
       "75381         2                                       CCCCC(CC)C=O         2\n",
       "75382         1  CC(C)(C)C1=CC(=CC(=C1O)C(C)(C)C)CCC(=O)NCCCCCC...         2\n",
       "\n",
       "[75383 rows x 3 columns]"
      ]
     },
     "execution_count": 16,
     "metadata": {},
     "output_type": "execute_result"
    }
   ],
   "source": [
    "train_data"
   ]
  },
  {
   "cell_type": "code",
   "execution_count": null,
   "id": "a1ce5c89",
   "metadata": {},
   "outputs": [],
   "source": []
  }
 ],
 "metadata": {
  "kernelspec": {
   "display_name": "Python 3 (ipykernel)",
   "language": "python",
   "name": "python3"
  },
  "language_info": {
   "codemirror_mode": {
    "name": "ipython",
    "version": 3
   },
   "file_extension": ".py",
   "mimetype": "text/x-python",
   "name": "python",
   "nbconvert_exporter": "python",
   "pygments_lexer": "ipython3",
   "version": "3.9.13"
  }
 },
 "nbformat": 4,
 "nbformat_minor": 5
}
