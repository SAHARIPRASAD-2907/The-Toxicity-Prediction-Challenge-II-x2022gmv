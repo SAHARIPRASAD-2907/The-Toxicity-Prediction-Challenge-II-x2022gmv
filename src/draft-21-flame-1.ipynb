{
 "cells": [
  {
   "cell_type": "code",
   "execution_count": 1,
   "id": "a7489932",
   "metadata": {},
   "outputs": [
    {
     "ename": "ModuleNotFoundError",
     "evalue": "No module named 'xgboost'",
     "output_type": "error",
     "traceback": [
      "\u001b[0;31m---------------------------------------------------------------------------\u001b[0m",
      "\u001b[0;31mModuleNotFoundError\u001b[0m                       Traceback (most recent call last)",
      "Cell \u001b[0;32mIn[1], line 6\u001b[0m\n\u001b[1;32m      4\u001b[0m \u001b[39mfrom\u001b[39;00m \u001b[39msklearn\u001b[39;00m\u001b[39m.\u001b[39;00m\u001b[39mmodel_selection\u001b[39;00m \u001b[39mimport\u001b[39;00m StratifiedKFold\n\u001b[1;32m      5\u001b[0m \u001b[39mfrom\u001b[39;00m \u001b[39msklearn\u001b[39;00m\u001b[39m.\u001b[39;00m\u001b[39mensemble\u001b[39;00m \u001b[39mimport\u001b[39;00m HistGradientBoostingClassifier\n\u001b[0;32m----> 6\u001b[0m \u001b[39mimport\u001b[39;00m \u001b[39mxgboost\u001b[39;00m \u001b[39mas\u001b[39;00m \u001b[39mxgb\u001b[39;00m\n\u001b[1;32m      7\u001b[0m \u001b[39mfrom\u001b[39;00m \u001b[39msklearn\u001b[39;00m\u001b[39m.\u001b[39;00m\u001b[39mmetrics\u001b[39;00m \u001b[39mimport\u001b[39;00m make_scorer, accuracy_score, precision_score, recall_score, f1_score\n",
      "\u001b[0;31mModuleNotFoundError\u001b[0m: No module named 'xgboost'"
     ]
    }
   ],
   "source": [
    "import pandas as pd\n",
    "from sklearn.metrics import f1_score\n",
    "from sklearn.model_selection import cross_validate\n",
    "from sklearn.model_selection import StratifiedKFold\n",
    "from sklearn.ensemble import HistGradientBoostingClassifier\n",
    "import xgboost as xgb\n",
    "from sklearn.metrics import make_scorer, accuracy_score, precision_score, recall_score, f1_score"
   ]
  },
  {
   "cell_type": "code",
   "execution_count": 2,
   "id": "6673f6dc",
   "metadata": {},
   "outputs": [],
   "source": [
    "train_data = pd.read_csv(\"./smile_description_train.csv\")\n",
    "test_data = pd.read_csv(\"./smile_description_test.csv\")"
   ]
  },
  {
   "cell_type": "code",
   "execution_count": 3,
   "id": "73f0be21",
   "metadata": {},
   "outputs": [],
   "source": [
    "# Replacing Null values of train and test data with 0 \n",
    "train_data = train_data.fillna(0)\n",
    "test_data = test_data.fillna(0)"
   ]
  },
  {
   "cell_type": "code",
   "execution_count": 4,
   "id": "d8fa556c",
   "metadata": {},
   "outputs": [],
   "source": [
    "# Split into X and y\n",
    "X = train_data.drop(\"label\",axis=1)\n",
    "y = train_data[\"label\"]"
   ]
  },
  {
   "cell_type": "code",
   "execution_count": 5,
   "id": "6cfb8322",
   "metadata": {},
   "outputs": [],
   "source": [
    "from sklearn.preprocessing import LabelEncoder\n",
    "label_encoder = LabelEncoder()\n",
    "y = label_encoder.fit_transform(y)"
   ]
  },
  {
   "cell_type": "code",
   "execution_count": 6,
   "id": "1069e220",
   "metadata": {},
   "outputs": [],
   "source": [
    "def create_submission(predict,filename):\n",
    "    sub_file = pd.read_csv(\"./data/sample_submission.csv\")\n",
    "    sub_file[\"Predicted\"] = predict\n",
    "    sub_file.to_csv(filename,index=False)\n",
    "    print(filename,\" Created\")"
   ]
  },
  {
   "cell_type": "code",
   "execution_count": 7,
   "id": "3d75e61f",
   "metadata": {},
   "outputs": [],
   "source": [
    "xgb_c = xgb.XGBClassifier(random_state=42,n_estimators=600)"
   ]
  },
  {
   "cell_type": "code",
   "execution_count": 16,
   "id": "4da87367",
   "metadata": {},
   "outputs": [],
   "source": [
    "def f1_score_xg_boost(X,y,learning_rate=None):\n",
    "    skf = StratifiedKFold(n_splits=5,random_state=42,shuffle=True)\n",
    "    cv =  skf.get_n_splits(X, y)\n",
    "    scoring = {'accuracy' : make_scorer(accuracy_score), \n",
    "           'precision' : make_scorer(precision_score),\n",
    "           'recall' : make_scorer(recall_score), \n",
    "           'f1_score' : make_scorer(f1_score)}\n",
    "    cv_results = cross_validate(xgb.XGBClassifier(random_state=42,n_estimators=700,eta=learning_rate), X, y, cv=cv,scoring=scoring,verbose=3,n_jobs=-1)\n",
    "    print(\"F1 score with \",sum(cv_results[\"test_f1_score\"])/5)\n",
    "    print(\"Accuracy score with \",sum(cv_results[\"test_accuracy\"])/5)"
   ]
  },
  {
   "cell_type": "code",
   "execution_count": 17,
   "id": "b97d79cf",
   "metadata": {},
   "outputs": [],
   "source": [
    "import numpy as np\n",
    "def get_count_of_ones_and_twos(predict):\n",
    "    print(\"Number of predicted ones\",np.count_nonzero(predict==1))\n",
    "    print(\"Number of predicted twos\",np.count_nonzero(predict==2))"
   ]
  },
  {
   "cell_type": "code",
   "execution_count": 18,
   "id": "de38c716",
   "metadata": {
    "scrolled": true
   },
   "outputs": [
    {
     "name": "stderr",
     "output_type": "stream",
     "text": [
      "[Parallel(n_jobs=-1)]: Using backend LokyBackend with 8 concurrent workers.\n",
      "[Parallel(n_jobs=-1)]: Done   2 out of   5 | elapsed: 30.4min remaining: 45.6min\n"
     ]
    },
    {
     "name": "stdout",
     "output_type": "stream",
     "text": [
      "F1 score with  0.9483140858093458\n",
      "Accuracy score with  0.9100460248164841\n"
     ]
    },
    {
     "name": "stderr",
     "output_type": "stream",
     "text": [
      "[Parallel(n_jobs=-1)]: Done   5 out of   5 | elapsed: 30.4min finished\n"
     ]
    },
    {
     "data": {
      "text/plain": [
       "'\\nn_estimators = 700\\nlearning_rate = 0.35\\nF1 score with  0.9483140858093458\\nAccuracy score with  0.9100460248164841\\nn_estimators = 900\\nlearning_rate = 0.4\\nF1 score with  0.9472493912457081\\nAccuracy score with  0.9082816785922123\\n'"
      ]
     },
     "execution_count": 18,
     "metadata": {},
     "output_type": "execute_result"
    }
   ],
   "source": [
    "f1_score_xg_boost(X,y,0.35)\n",
    "\"\"\"\n",
    "n_estimators = 700\n",
    "learning_rate = 0.35\n",
    "F1 score with  0.9483140858093458\n",
    "Accuracy score with  0.9100460248164841\n",
    "n_estimators = 900\n",
    "learning_rate = 0.4\n",
    "F1 score with  0.9472493912457081\n",
    "Accuracy score with  0.9082816785922123\n",
    "\"\"\""
   ]
  },
  {
   "cell_type": "code",
   "execution_count": 19,
   "id": "053e339a",
   "metadata": {},
   "outputs": [],
   "source": [
    "xgb_c = xgb.XGBClassifier(random_state=42,n_estimators=700,eta=0.35)"
   ]
  },
  {
   "cell_type": "code",
   "execution_count": 20,
   "id": "f0d32d26",
   "metadata": {},
   "outputs": [
    {
     "name": "stdout",
     "output_type": "stream",
     "text": [
      "[CV] END  accuracy: (test=0.911) f1_score: (test=0.949) precision: (test=0.938) recall: (test=0.960) total time=30.3min\n",
      "[CV] END  accuracy: (test=0.913) f1_score: (test=0.950) precision: (test=0.936) recall: (test=0.964) total time=30.4min\n",
      "[CV] END  accuracy: (test=0.908) f1_score: (test=0.947) precision: (test=0.935) recall: (test=0.960) total time=30.4min\n",
      "[CV] END  accuracy: (test=0.912) f1_score: (test=0.949) precision: (test=0.937) recall: (test=0.962) total time=30.4min\n",
      "[CV] END  accuracy: (test=0.907) f1_score: (test=0.946) precision: (test=0.934) recall: (test=0.959) total time=30.4min\n"
     ]
    }
   ],
   "source": [
    "xgb_c.fit(X,y)\n",
    "predict = xgb_c.predict(test_data)\n",
    "predict_real = label_encoder.inverse_transform(predict)"
   ]
  },
  {
   "cell_type": "code",
   "execution_count": 21,
   "id": "9b726083",
   "metadata": {},
   "outputs": [
    {
     "name": "stdout",
     "output_type": "stream",
     "text": [
      "Number of predicted ones 1361\n",
      "Number of predicted twos 9633\n"
     ]
    }
   ],
   "source": [
    "get_count_of_ones_and_twos(predict_real)"
   ]
  },
  {
   "cell_type": "code",
   "execution_count": 22,
   "id": "c1898bbc",
   "metadata": {},
   "outputs": [
    {
     "name": "stdout",
     "output_type": "stream",
     "text": [
      "submission_1_mar_5.csv  Created\n"
     ]
    }
   ],
   "source": [
    "create_submission(predict_real,\"submission_1_mar_5.csv\")"
   ]
  },
  {
   "cell_type": "code",
   "execution_count": null,
   "id": "71d60ea5",
   "metadata": {},
   "outputs": [],
   "source": []
  }
 ],
 "metadata": {
  "kernelspec": {
   "display_name": "Python 3 (ipykernel)",
   "language": "python",
   "name": "python3"
  },
  "language_info": {
   "codemirror_mode": {
    "name": "ipython",
    "version": 3
   },
   "file_extension": ".py",
   "mimetype": "text/x-python",
   "name": "python",
   "nbconvert_exporter": "python",
   "pygments_lexer": "ipython3",
   "version": "3.9.6"
  }
 },
 "nbformat": 4,
 "nbformat_minor": 5
}
