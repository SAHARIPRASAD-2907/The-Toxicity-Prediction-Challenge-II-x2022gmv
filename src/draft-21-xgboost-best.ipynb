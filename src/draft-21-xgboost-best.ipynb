{
 "cells": [
  {
   "cell_type": "code",
   "execution_count": 1,
   "id": "a7489932",
   "metadata": {},
   "outputs": [],
   "source": [
    "import pandas as pd\n",
    "from sklearn.metrics import f1_score\n",
    "from sklearn.model_selection import cross_validate\n",
    "from sklearn.model_selection import StratifiedKFold\n",
    "from sklearn.ensemble import HistGradientBoostingClassifier\n",
    "import xgboost as xgb\n",
    "from sklearn.metrics import make_scorer, accuracy_score, precision_score, recall_score, f1_score"
   ]
  },
  {
   "cell_type": "code",
   "execution_count": 2,
   "id": "6673f6dc",
   "metadata": {},
   "outputs": [],
   "source": [
    "train_data = pd.read_csv(\"./smile_description_train.csv\")\n",
    "test_data = pd.read_csv(\"./smile_description_test.csv\")"
   ]
  },
  {
   "cell_type": "code",
   "execution_count": 3,
   "id": "73f0be21",
   "metadata": {},
   "outputs": [],
   "source": [
    "# Replacing Null values of train and test data with 0 \n",
    "train_data = train_data.fillna(0)\n",
    "test_data = test_data.fillna(0)"
   ]
  },
  {
   "cell_type": "code",
   "execution_count": 4,
   "id": "d8fa556c",
   "metadata": {},
   "outputs": [],
   "source": [
    "# Split into X and y\n",
    "X = train_data.drop(\"label\",axis=1)\n",
    "y = train_data[\"label\"]"
   ]
  },
  {
   "cell_type": "code",
   "execution_count": 5,
   "id": "6cfb8322",
   "metadata": {},
   "outputs": [],
   "source": [
    "from sklearn.preprocessing import LabelEncoder\n",
    "label_encoder = LabelEncoder()\n",
    "y = label_encoder.fit_transform(y)"
   ]
  },
  {
   "cell_type": "code",
   "execution_count": 6,
   "id": "1069e220",
   "metadata": {},
   "outputs": [],
   "source": [
    "def create_submission(predict,filename):\n",
    "    sub_file = pd.read_csv(\"./data/sample_submission.csv\")\n",
    "    sub_file[\"Predicted\"] = predict\n",
    "    sub_file.to_csv(filename,index=False)\n",
    "    print(filename,\" Created\")"
   ]
  },
  {
   "cell_type": "code",
   "execution_count": 7,
   "id": "3d75e61f",
   "metadata": {},
   "outputs": [],
   "source": [
    "xgb_c = xgb.XGBClassifier(random_state=42,n_estimators=600)"
   ]
  },
  {
   "cell_type": "code",
   "execution_count": 8,
   "id": "4da87367",
   "metadata": {},
   "outputs": [],
   "source": [
    "def f1_score_xg_boost(X,y,learning_rate=None):\n",
    "    skf = StratifiedKFold(n_splits=5,random_state=42,shuffle=True)\n",
    "    cv =  skf.get_n_splits(X, y)\n",
    "    scoring = {'accuracy' : make_scorer(accuracy_score), \n",
    "           'precision' : make_scorer(precision_score),\n",
    "           'recall' : make_scorer(recall_score), \n",
    "           'f1_score' : make_scorer(f1_score)}\n",
    "    cv_results = cross_validate(xgb.XGBClassifier(random_state=42,n_estimators=900,eta=learning_rate), X, y, cv=cv,scoring=scoring,verbose=3,n_jobs=-1)\n",
    "    print(\"F1 score with \",sum(cv_results[\"test_f1_score\"])/5)\n",
    "    print(\"Accuracy score with \",sum(cv_results[\"test_accuracy\"])/5)"
   ]
  },
  {
   "cell_type": "code",
   "execution_count": 9,
   "id": "b97d79cf",
   "metadata": {},
   "outputs": [],
   "source": [
    "import numpy as np\n",
    "def get_count_of_ones_and_twos(predict):\n",
    "    print(\"Number of predicted ones\",np.count_nonzero(predict==1))\n",
    "    print(\"Number of predicted twos\",np.count_nonzero(predict==2))"
   ]
  },
  {
   "cell_type": "code",
   "execution_count": 10,
   "id": "de38c716",
   "metadata": {
    "scrolled": true
   },
   "outputs": [
    {
     "data": {
      "text/plain": [
       "'\\nn_estimators = 700\\nlearning_rate = 0.35\\nF1 score with  0.9483140858093458\\nAccuracy score with  0.9100460248164841\\nn_estimators = 900\\nlearning_rate = 0.4\\nF1 score with  0.9472493912457081\\nAccuracy score with  0.9082816785922123\\n'"
      ]
     },
     "execution_count": 10,
     "metadata": {},
     "output_type": "execute_result"
    }
   ],
   "source": [
    "# f1_score_xg_boost(X,y,0.35)\n",
    "\"\"\"\n",
    "n_estimators = 700\n",
    "learning_rate = 0.35\n",
    "F1 score with  0.9483140858093458\n",
    "Accuracy score with  0.9100460248164841\n",
    "n_estimators = 900\n",
    "learning_rate = 0.4\n",
    "F1 score with  0.9472493912457081\n",
    "Accuracy score with  0.9082816785922123\n",
    "\"\"\""
   ]
  },
  {
   "cell_type": "code",
   "execution_count": 30,
   "id": "053e339a",
   "metadata": {},
   "outputs": [],
   "source": [
    "xgb_c = xgb.XGBClassifier(random_state=42,n_estimators=700,eta=0.35)"
   ]
  },
  {
   "cell_type": "code",
   "execution_count": 31,
   "id": "f0d32d26",
   "metadata": {},
   "outputs": [],
   "source": [
    "xgb_c.fit(X,y)\n",
    "predict = xgb_c.predict(test_data)\n",
    "predict_real = label_encoder.inverse_transform(predict)"
   ]
  },
  {
   "cell_type": "code",
   "execution_count": 28,
   "id": "9b726083",
   "metadata": {},
   "outputs": [
    {
     "name": "stdout",
     "output_type": "stream",
     "text": [
      "Number of predicted ones 1325\n",
      "Number of predicted twos 9669\n"
     ]
    }
   ],
   "source": [
    "get_count_of_ones_and_twos(predict_real)"
   ]
  },
  {
   "cell_type": "code",
   "execution_count": 29,
   "id": "c1898bbc",
   "metadata": {},
   "outputs": [
    {
     "name": "stdout",
     "output_type": "stream",
     "text": [
      "submission_5_mar_4.csv  Created\n"
     ]
    }
   ],
   "source": [
    "create_submission(predict_real,\"submission_5_mar_4.csv\")"
   ]
  },
  {
   "cell_type": "code",
   "execution_count": null,
   "id": "71d60ea5",
   "metadata": {},
   "outputs": [],
   "source": []
  }
 ],
 "metadata": {
  "kernelspec": {
   "display_name": "Python 3 (ipykernel)",
   "language": "python",
   "name": "python3"
  },
  "language_info": {
   "codemirror_mode": {
    "name": "ipython",
    "version": 3
   },
   "file_extension": ".py",
   "mimetype": "text/x-python",
   "name": "python",
   "nbconvert_exporter": "python",
   "pygments_lexer": "ipython3",
   "version": "3.9.13"
  }
 },
 "nbformat": 4,
 "nbformat_minor": 5
}
