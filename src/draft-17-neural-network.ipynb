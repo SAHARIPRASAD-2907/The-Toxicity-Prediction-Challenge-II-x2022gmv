{
 "cells": [
  {
   "cell_type": "code",
   "execution_count": 1,
   "id": "a7489932",
   "metadata": {},
   "outputs": [],
   "source": [
    "import pandas as pd\n",
    "from sklearn.metrics import f1_score\n",
    "from sklearn.model_selection import cross_validate\n",
    "from sklearn.model_selection import StratifiedKFold\n",
    "from sklearn.ensemble import HistGradientBoostingClassifier\n",
    "from sklearn.neural_network import MLPClassifier\n",
    "import xgboost as xgb\n",
    "from sklearn.metrics import make_scorer, accuracy_score, precision_score, recall_score, f1_score"
   ]
  },
  {
   "cell_type": "code",
   "execution_count": 2,
   "id": "6673f6dc",
   "metadata": {},
   "outputs": [],
   "source": [
    "train_data = pd.read_csv(\"./smile_description_train.csv\")\n",
    "test_data = pd.read_csv(\"./smile_description_test.csv\")"
   ]
  },
  {
   "cell_type": "code",
   "execution_count": 3,
   "id": "73f0be21",
   "metadata": {},
   "outputs": [],
   "source": [
    "# Replacing Null values of train and test data with 0 \n",
    "train_data = train_data.fillna(0)\n",
    "test_data = test_data.fillna(0)"
   ]
  },
  {
   "cell_type": "code",
   "execution_count": 4,
   "id": "d8fa556c",
   "metadata": {},
   "outputs": [],
   "source": [
    "# Split into X and y\n",
    "X = train_data.drop(\"label\",axis=1)\n",
    "y = train_data[\"label\"]"
   ]
  },
  {
   "cell_type": "code",
   "execution_count": 5,
   "id": "6cfb8322",
   "metadata": {},
   "outputs": [],
   "source": [
    "from sklearn.preprocessing import LabelEncoder\n",
    "label_encoder = LabelEncoder()\n",
    "y = label_encoder.fit_transform(y)"
   ]
  },
  {
   "cell_type": "code",
   "execution_count": 6,
   "id": "1069e220",
   "metadata": {},
   "outputs": [],
   "source": [
    "def create_submission(predict,filename):\n",
    "    sub_file = pd.read_csv(\"./data/sample_submission.csv\")\n",
    "    sub_file[\"Predicted\"] = predict\n",
    "    sub_file.to_csv(filename,index=False)\n",
    "    print(filename,\" Created\")"
   ]
  },
  {
   "cell_type": "code",
   "execution_count": 20,
   "id": "3d75e61f",
   "metadata": {},
   "outputs": [],
   "source": [
    "ann = MLPClassifier(random_state=42,hidden_layer_sizes=20,verbose=True,max_iter=20)"
   ]
  },
  {
   "cell_type": "code",
   "execution_count": 9,
   "id": "4da87367",
   "metadata": {},
   "outputs": [],
   "source": [
    "def f1_score_xg_boost(X,y,learning_rate=None):\n",
    "    skf = StratifiedKFold(n_splits=5,random_state=42,shuffle=True)\n",
    "    cv =  skf.get_n_splits(X, y)\n",
    "    scoring = {'accuracy' : make_scorer(accuracy_score), \n",
    "           'precision' : make_scorer(precision_score),\n",
    "           'recall' : make_scorer(recall_score), \n",
    "           'f1_score' : make_scorer(f1_score)}\n",
    "    cv_results = cross_validate(xgb.XGBClassifier(random_state=42,n_estimators=700,eta=learning_rate), X, y, cv=cv,scoring=scoring,verbose=3,n_jobs=-1)\n",
    "    print(\"F1 score with \",sum(cv_results[\"test_f1_score\"])/5)\n",
    "    print(\"Accuracy score with \",sum(cv_results[\"test_accuracy\"])/5)"
   ]
  },
  {
   "cell_type": "code",
   "execution_count": 10,
   "id": "b97d79cf",
   "metadata": {},
   "outputs": [],
   "source": [
    "import numpy as np\n",
    "def get_count_of_ones_and_twos(predict):\n",
    "    print(\"Number of predicted ones\",np.count_nonzero(predict==1))\n",
    "    print(\"Number of predicted twos\",np.count_nonzero(predict==2))"
   ]
  },
  {
   "cell_type": "code",
   "execution_count": 22,
   "id": "de38c716",
   "metadata": {
    "scrolled": true
   },
   "outputs": [
    {
     "name": "stderr",
     "output_type": "stream",
     "text": [
      "[Parallel(n_jobs=-1)]: Using backend LokyBackend with 8 concurrent workers.\n",
      "[Parallel(n_jobs=-1)]: Done   2 out of   5 | elapsed: 11.5min remaining: 17.3min\n"
     ]
    },
    {
     "name": "stdout",
     "output_type": "stream",
     "text": [
      "F1 score with  0.9483140858093458\n",
      "Accuracy score with  0.9100460248164841\n"
     ]
    },
    {
     "name": "stderr",
     "output_type": "stream",
     "text": [
      "[Parallel(n_jobs=-1)]: Done   5 out of   5 | elapsed: 11.6min finished\n"
     ]
    }
   ],
   "source": [
    "# f1_score_xg_boost(X,y,0.35)\n",
    "\"\"\"\n",
    "n_estimators = 700\n",
    "learning_rate = 0.35\n",
    "F1 score with  0.9483140858093458\n",
    "Accuracy score with  0.9100460248164841\n",
    "\"\"\""
   ]
  },
  {
   "cell_type": "code",
   "execution_count": 23,
   "id": "053e339a",
   "metadata": {},
   "outputs": [
    {
     "name": "stdout",
     "output_type": "stream",
     "text": [
      "[CV] END  accuracy: (test=0.914) f1_score: (test=0.950) precision: (test=0.936) recall: (test=0.965) total time=35.3min\n",
      "[CV] END  accuracy: (test=0.911) f1_score: (test=0.949) precision: (test=0.938) recall: (test=0.960) total time=11.5min\n",
      "[CV] END  accuracy: (test=0.909) f1_score: (test=0.948) precision: (test=0.934) recall: (test=0.961) total time=35.3min\n",
      "[CV] END  accuracy: (test=0.908) f1_score: (test=0.947) precision: (test=0.935) recall: (test=0.960) total time=11.5min\n",
      "[CV] END  accuracy: (test=0.909) f1_score: (test=0.948) precision: (test=0.935) recall: (test=0.962) total time=35.3min\n",
      "[CV] END  accuracy: (test=0.907) f1_score: (test=0.946) precision: (test=0.934) recall: (test=0.959) total time=11.5min\n",
      "[CV] END  accuracy: (test=0.915) f1_score: (test=0.951) precision: (test=0.938) recall: (test=0.964) total time=35.3min\n",
      "[CV] END  accuracy: (test=0.913) f1_score: (test=0.950) precision: (test=0.936) recall: (test=0.964) total time=11.5min\n",
      "[CV] END  accuracy: (test=0.905) f1_score: (test=0.945) precision: (test=0.933) recall: (test=0.958) total time=35.4min\n",
      "[CV] END  accuracy: (test=0.912) f1_score: (test=0.949) precision: (test=0.937) recall: (test=0.962) total time=11.6min\n"
     ]
    }
   ],
   "source": [
    "# xgb_c = xgb.XGBClassifier(random_state=42,n_estimators=700,eta=0.35)"
   ]
  },
  {
   "cell_type": "code",
   "execution_count": 21,
   "id": "f0d32d26",
   "metadata": {},
   "outputs": [
    {
     "name": "stdout",
     "output_type": "stream",
     "text": [
      "Iteration 1, loss = 8.52129639\n",
      "Iteration 2, loss = 7.12214624\n",
      "Iteration 3, loss = 7.87804814\n",
      "Iteration 4, loss = 7.59917941\n",
      "Iteration 5, loss = 7.54881294\n",
      "Iteration 6, loss = 7.40288529\n",
      "Iteration 7, loss = 7.89212516\n",
      "Iteration 8, loss = 6.84181302\n",
      "Iteration 9, loss = 7.78191080\n",
      "Iteration 10, loss = 7.59097725\n",
      "Iteration 11, loss = 7.50959502\n",
      "Iteration 12, loss = 7.67771050\n",
      "Iteration 13, loss = 7.04938328\n",
      "Iteration 14, loss = 7.84240255\n",
      "Iteration 15, loss = 7.39539437\n",
      "Iteration 16, loss = 8.15235200\n",
      "Iteration 17, loss = 6.89217228\n",
      "Iteration 18, loss = 6.69757648\n",
      "Iteration 19, loss = 7.25708492\n",
      "Iteration 20, loss = 6.97957636\n"
     ]
    },
    {
     "name": "stderr",
     "output_type": "stream",
     "text": [
      "/opt/anaconda3/lib/python3.9/site-packages/sklearn/neural_network/_multilayer_perceptron.py:702: ConvergenceWarning: Stochastic Optimizer: Maximum iterations (20) reached and the optimization hasn't converged yet.\n",
      "  warnings.warn(\n"
     ]
    }
   ],
   "source": [
    "ann.fit(X,y)\n",
    "predict = ann.predict(test_data)\n",
    "predict_real = label_encoder.inverse_transform(predict)"
   ]
  },
  {
   "cell_type": "code",
   "execution_count": 22,
   "id": "9b726083",
   "metadata": {},
   "outputs": [
    {
     "name": "stdout",
     "output_type": "stream",
     "text": [
      "Number of predicted ones 1667\n",
      "Number of predicted twos 9327\n"
     ]
    }
   ],
   "source": [
    "get_count_of_ones_and_twos(predict_real)"
   ]
  },
  {
   "cell_type": "code",
   "execution_count": 23,
   "id": "c1898bbc",
   "metadata": {},
   "outputs": [
    {
     "name": "stdout",
     "output_type": "stream",
     "text": [
      "submission_1_mar_1.csv  Created\n"
     ]
    }
   ],
   "source": [
    "create_submission(predict_real,\"submission_1_mar_1.csv\")"
   ]
  },
  {
   "cell_type": "code",
   "execution_count": null,
   "id": "71d60ea5",
   "metadata": {},
   "outputs": [],
   "source": []
  }
 ],
 "metadata": {
  "kernelspec": {
   "display_name": "Python 3 (ipykernel)",
   "language": "python",
   "name": "python3"
  },
  "language_info": {
   "codemirror_mode": {
    "name": "ipython",
    "version": 3
   },
   "file_extension": ".py",
   "mimetype": "text/x-python",
   "name": "python",
   "nbconvert_exporter": "python",
   "pygments_lexer": "ipython3",
   "version": "3.9.13"
  }
 },
 "nbformat": 4,
 "nbformat_minor": 5
}
